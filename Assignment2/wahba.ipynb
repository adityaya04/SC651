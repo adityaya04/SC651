{
 "cells": [
  {
   "cell_type": "code",
   "execution_count": 55,
   "metadata": {},
   "outputs": [],
   "source": [
    "import numpy as np\n",
    "from scipy.linalg import polar\n",
    "def printMat(M):\n",
    "    for i in range(3):\n",
    "        print(f\"{M[i,0]:.4f} & {M[i,1]:.4f} & {M[i,2]:.4f} \\\\\\ \")  "
   ]
  },
  {
   "cell_type": "code",
   "execution_count": 56,
   "metadata": {},
   "outputs": [
    {
     "name": "stdout",
     "output_type": "stream",
     "text": [
      "0.3347562818077981\n"
     ]
    }
   ],
   "source": [
    "DATA = [\n",
    "    [[0.63, 0.45, 0.87], [0.17, 0.03, 0.50]],\n",
    "    [[0.03, 0.40, 0.86], [0.26, 0.37, 0.15]],\n",
    "    [[0.86, 0.17, 0.16], [0.78, 0.65, 0.67]],\n",
    "    [[0.29, 0.79, 0.04], [0.83, 0.96, 0.82]],\n",
    "    [[0.60, 0.38, 0.15], [0.69, 0.72, 0.04]],\n",
    "    [[0.99, 0.43, 0.76], [0.64, 0.77, 0.34]]\n",
    "]\n",
    "\n",
    "for i in range(len(DATA)) :\n",
    "    DATA[i][0] = np.array(DATA[i][0]) / np.linalg.norm(np.array(DATA[i][0]) )\n",
    "    DATA[i][1] = np.array(DATA[i][1]) / np.linalg.norm(np.array(DATA[i][1]) )\n",
    "    \n",
    "def MSE(A):\n",
    "    mse = 0\n",
    "    for i in range(len(DATA)) :\n",
    "        v = DATA[i][0]\n",
    "        w = DATA[i][1] \n",
    "        mse += np.linalg.norm(A @ v - w)**2\n",
    "    return mse / len(DATA)\n",
    "\n",
    "\n",
    "#     mse += np.linalg.norm(DATA[i][0] - DATA[i][1])**2\n",
    "# print(mse/len(DATA))\n",
    "print(MSE(np.eye(3)))"
   ]
  },
  {
   "cell_type": "code",
   "execution_count": 57,
   "metadata": {},
   "outputs": [
    {
     "name": "stdout",
     "output_type": "stream",
     "text": [
      "0.9962 & -0.0324 & -0.0812 \\\\ \n",
      "0.0401 & 0.9947 & 0.0952 \\\\ \n",
      "0.0777 & -0.0981 & 0.9921 \\\\ \n",
      "0.3272077298366734\n"
     ]
    }
   ],
   "source": [
    "B = np.zeros((3,3))\n",
    "for i in range(len(DATA)):\n",
    "    w = DATA[i][1]\n",
    "    v = DATA[i][0]\n",
    "    w = w.reshape((len(w),1))\n",
    "    v = v.reshape((len(v),1))\n",
    "    B += w @ v.T\n",
    "U, S , Vt = np.linalg.svd(B)\n",
    "M = np.diag([1, 1, np.linalg.det(U) * np.linalg.det(Vt)])\n",
    "R = (U @ M @ Vt)\n",
    "\n",
    "printMat(R)\n",
    "\n",
    "print(MSE(R))"
   ]
  },
  {
   "cell_type": "code",
   "execution_count": 58,
   "metadata": {},
   "outputs": [],
   "source": [
    "### TRIAD ###\n",
    "def TRAID(v1, w1, v2 ,w2) :\n",
    "    r1 = v1 / np.linalg.norm(v1)\n",
    "    r2 = np.cross(v1, v2) \n",
    "    r2 = r2 / np.linalg.norm(r2)\n",
    "    r3 = np.cross(r1, r2)\n",
    "\n",
    "    s1 = w1 / np.linalg.norm(w1)\n",
    "    s2 = np.cross(w1, w2) \n",
    "    s2 = s2 / np.linalg.norm(s2)\n",
    "    s3 = np.cross(s1, s2)\n",
    "\n",
    "    s1 = s1.reshape((-1, 1))\n",
    "    s2 = s2.reshape((-1, 1))\n",
    "    s3 = s3.reshape((-1, 1))\n",
    "\n",
    "    r1 = r1.reshape((-1, 1))\n",
    "    r2 = r2.reshape((-1, 1))\n",
    "    r3 = r3.reshape((-1, 1))\n",
    "\n",
    "    Mobs = np.hstack((s1, s2, s3))\n",
    "    Mref = np.hstack((r1, r2, r3))\n",
    "    A = Mobs @ Mref.T \n",
    "    return A"
   ]
  },
  {
   "cell_type": "code",
   "execution_count": 59,
   "metadata": {},
   "outputs": [
    {
     "name": "stdout",
     "output_type": "stream",
     "text": [
      "1.161573692516731\n",
      "0.6676595782614001\n",
      "0.0057 & 0.9899 & 0.1415 \\\\ \n",
      "-0.3439 & -0.1310 & 0.9298 \\\\ \n",
      "0.9390 & -0.0539 & 0.3397 \\\\ \n"
     ]
    }
   ],
   "source": [
    "v1 = np.array(DATA[0][0])\n",
    "w1 = np.array(DATA[0][1])\n",
    "v2 = np.array(DATA[1][0])\n",
    "w2 = np.array(DATA[1][1])\n",
    "\n",
    "A1 = TRAID(v1, w1, v2, w2)\n",
    "A2 = TRAID(v2, w2, v1, w1)\n",
    "\n",
    "print(MSE(A1))\n",
    "print(MSE(A2))\n",
    "printMat(A2)"
   ]
  },
  {
   "cell_type": "code",
   "execution_count": 60,
   "metadata": {},
   "outputs": [
    {
     "name": "stdout",
     "output_type": "stream",
     "text": [
      "[[ 0.53182145 -0.55247916 -0.63999087  0.04841901]\n",
      " [-0.80653839 -0.09939355 -0.58140467  0.0398165 ]\n",
      " [ 0.2579518   0.82631003 -0.50034234 -0.01816974]\n",
      " [ 0.0110738   0.04581954  0.04514239  0.99786778]]\n"
     ]
    }
   ],
   "source": [
    "### QUEST ###\n",
    "sigma = np.trace(B)\n",
    "S = (B + B.T)\n",
    "Z = np.zeros(3)\n",
    "for i in range(len(DATA)) :\n",
    "    w = DATA[i][1]\n",
    "    v = DATA[i][0]\n",
    "    Z = Z + np.cross(w , v)\n",
    "K = np.zeros((4,4))\n",
    "K[:3, :3] = S - sigma * np.eye(3)\n",
    "K[3,3] = sigma\n",
    "K[3,:3] = Z\n",
    "K[:3,3] = Z\n",
    "\n",
    "q = np.linalg.eig(K)[1][:,3]\n",
    "\n",
    "print(np.linalg.eig(K)[1])\n",
    "# q = np.array([1, 0, 0, 0])\n",
    "# eigs = []\n",
    "# new_eig = 0\n",
    "# while True :\n",
    "#     old_eig = new_eig\n",
    "#     q = K @ q\n",
    "#     q = q / np.linalg.norm(q)\n",
    "#     new_eig = q.T @ K @ q\n",
    "#     if abs(new_eig - old_eig) < 1e-6 :\n",
    "#         break\n",
    "#     eigs.append(new_eig)\n",
    "\n",
    "# import matplotlib.pyplot as plt\n",
    "# print(eigs[-1])\n",
    "# plt.plot(eigs)\n",
    "# plt.show()\n",
    "# print(np.linalg.eigvals(K))"
   ]
  },
  {
   "cell_type": "code",
   "execution_count": 61,
   "metadata": {},
   "outputs": [
    {
     "name": "stdout",
     "output_type": "stream",
     "text": [
      "0.3252090424296568\n"
     ]
    }
   ],
   "source": [
    "def sk(q) :\n",
    "    return np.array([\n",
    "        [0, q[2], -q[1]],\n",
    "        [-q[2], 0, q[0]],\n",
    "        [q[1], -q[0], 0]\n",
    "    ])\n",
    "\n",
    "Q = q[:3]\n",
    "q = q[3]\n",
    "A = np.eye(3) * (q ** 2 - Q.T @ Q) + 2 * Q @ Q.T + 2 * q * sk(Q)\n",
    "print(MSE(A))"
   ]
  },
  {
   "cell_type": "code",
   "execution_count": 62,
   "metadata": {},
   "outputs": [
    {
     "name": "stdout",
     "output_type": "stream",
     "text": [
      "1.0000 & -0.0277 & -0.0709 \\\\ \n",
      "0.0448 & 1.0000 & 0.1052 \\\\ \n",
      "0.0880 & -0.0881 & 1.0000 \\\\ \n"
     ]
    }
   ],
   "source": [
    "  \n",
    "printMat(A)        "
   ]
  }
 ],
 "metadata": {
  "kernelspec": {
   "display_name": "Python 3",
   "language": "python",
   "name": "python3"
  },
  "language_info": {
   "codemirror_mode": {
    "name": "ipython",
    "version": 3
   },
   "file_extension": ".py",
   "mimetype": "text/x-python",
   "name": "python",
   "nbconvert_exporter": "python",
   "pygments_lexer": "ipython3",
   "version": "3.8.10"
  }
 },
 "nbformat": 4,
 "nbformat_minor": 2
}
